{
 "cells": [
  {
   "cell_type": "code",
   "execution_count": 1,
   "metadata": {},
   "outputs": [],
   "source": [
    "# importing libraries\n",
    "import numpy as np\n",
    "import matplotlib.pyplot as plt\n",
    "import tensorflow as tf\n",
    "import os\n",
    "\n",
    "from tensorflow.keras.preprocessing import image\n",
    "from tensorflow.keras.layers import Input, Reshape, Dense, Conv2D, MaxPooling2D, UpSampling2D, Activation, Flatten, Dropout\n",
    "from tensorflow.keras.models import Sequential, Model\n",
    "from tensorflow.keras.preprocessing.image import ImageDataGenerator\n",
    "from tensorflow.keras.optimizers import RMSprop"
   ]
  },
  {
   "cell_type": "code",
   "execution_count": 2,
   "metadata": {},
   "outputs": [],
   "source": [
    "# Training data\n",
    "train_dir= \"data/train\"\n",
    "test_dir = \"data/test\""
   ]
  },
  {
   "cell_type": "code",
   "execution_count": 3,
   "metadata": {},
   "outputs": [
    {
     "name": "stdout",
     "output_type": "stream",
     "text": [
      "Found 1912 images belonging to 2 classes.\n",
      "Found 500 images belonging to 2 classes.\n"
     ]
    }
   ],
   "source": [
    "data_generator = ImageDataGenerator(rescale = 1.0/255.0, zoom_range = 0.2)\n",
    "\n",
    "batch_size = 32\n",
    "training_data = data_generator.flow_from_directory(directory = train_dir,\n",
    "                                                   target_size = (64, 64),\n",
    "                                                   batch_size = batch_size,\n",
    "                                                   class_mode = 'binary',\n",
    "                                                  shuffle = True)\n",
    "testing_data = data_generator.flow_from_directory(directory = test_dir,\n",
    "                                                  target_size = (64, 64),\n",
    "                                                  batch_size = batch_size,\n",
    "                                                  class_mode = 'binary',\n",
    "                                                 shuffle = True)"
   ]
  },
  {
   "cell_type": "code",
   "execution_count": 4,
   "metadata": {},
   "outputs": [],
   "source": [
    "label_dict = {\n",
    "0: \"hot_dog\",\n",
    "1: \"not_hot_dog\"\n",
    "}"
   ]
  },
  {
   "cell_type": "code",
   "execution_count": 5,
   "metadata": {},
   "outputs": [
    {
     "name": "stdout",
     "output_type": "stream",
     "text": [
      "WARNING:tensorflow:From /Users/ehsieh/anaconda3/lib/python3.7/site-packages/tensorflow_core/python/ops/resource_variable_ops.py:1630: calling BaseResourceVariable.__init__ (from tensorflow.python.ops.resource_variable_ops) with constraint is deprecated and will be removed in a future version.\n",
      "Instructions for updating:\n",
      "If using Keras pass *_constraint arguments to layers.\n"
     ]
    }
   ],
   "source": [
    "model = Sequential()\n",
    "model.add(Conv2D(8, kernel_size=(3, 3),\n",
    "                 activation='relu',\n",
    "                 input_shape=training_data.image_shape))\n",
    "model.add(Flatten())\n",
    "model.add(Dense(128, activation='relu', input_shape = training_data.image_shape))\n",
    "model.add(Dense(2, activation='softmax'))\n",
    "model.compile(loss='sparse_categorical_crossentropy',\n",
    "              optimizer=RMSprop(lr=0.001),\n",
    "              metrics=['accuracy'])\n",
    "\n",
    "model.summary()"
   ]
  },
  {
   "cell_type": "code",
   "execution_count": 6,
   "metadata": {},
   "outputs": [
    {
     "name": "stdout",
     "output_type": "stream",
     "text": [
      "Epoch 1/16\n",
      "32/32 [==============================] - 6s 187ms/step - loss: 3.8179 - acc: 0.5984\n",
      "Epoch 2/16\n",
      "32/32 [==============================] - 6s 183ms/step - loss: 0.8054 - acc: 0.7422\n",
      "Epoch 3/16\n",
      "32/32 [==============================] - 6s 179ms/step - loss: 0.5242 - acc: 0.7707\n",
      "Epoch 4/16\n",
      "32/32 [==============================] - 5s 170ms/step - loss: 0.4353 - acc: 0.8125\n",
      "Epoch 5/16\n",
      "32/32 [==============================] - 5s 158ms/step - loss: 0.3776 - acc: 0.8408\n",
      "Epoch 6/16\n",
      "32/32 [==============================] - 5s 164ms/step - loss: 0.3629 - acc: 0.8278\n",
      "Epoch 7/16\n",
      "32/32 [==============================] - 5s 164ms/step - loss: 0.3362 - acc: 0.8671\n",
      "Epoch 8/16\n",
      "32/32 [==============================] - 5s 165ms/step - loss: 0.3198 - acc: 0.8691\n",
      "Epoch 9/16\n",
      "32/32 [==============================] - 5s 163ms/step - loss: 0.2895 - acc: 0.8858\n",
      "Epoch 10/16\n",
      "32/32 [==============================] - 5s 162ms/step - loss: 0.2843 - acc: 0.8730\n",
      "Epoch 11/16\n",
      "32/32 [==============================] - 5s 164ms/step - loss: 0.2573 - acc: 0.9006\n",
      "Epoch 12/16\n",
      "32/32 [==============================] - 5s 164ms/step - loss: 0.2080 - acc: 0.9154\n",
      "Epoch 13/16\n",
      "32/32 [==============================] - 5s 162ms/step - loss: 0.2322 - acc: 0.8984\n",
      "Epoch 14/16\n",
      "32/32 [==============================] - 5s 163ms/step - loss: 0.2130 - acc: 0.9141\n",
      "Epoch 15/16\n",
      "32/32 [==============================] - 5s 159ms/step - loss: 0.2027 - acc: 0.9104\n",
      "Epoch 16/16\n",
      "32/32 [==============================] - 5s 164ms/step - loss: 0.2075 - acc: 0.9193\n"
     ]
    },
    {
     "data": {
      "text/plain": [
       "<tensorflow.python.keras.callbacks.History at 0x7fb27de19d30>"
      ]
     },
     "execution_count": 6,
     "metadata": {},
     "output_type": "execute_result"
    }
   ],
   "source": [
    "n_epochs = 16\n",
    "\n",
    "model.fit(training_data,\n",
    "          steps_per_epoch = 32,\n",
    "          epochs=n_epochs,\n",
    "          verbose=1)"
   ]
  },
  {
   "cell_type": "markdown",
   "metadata": {},
   "source": [
    "Hyperparam Logs:\n",
    "Conv2D:8, Dense:256 -> Acc:94"
   ]
  },
  {
   "cell_type": "code",
   "execution_count": 17,
   "metadata": {},
   "outputs": [
    {
     "data": {
      "image/png": "[encoded data removed]",
      "text/plain": [
       "<Figure size 432x288 with 1 Axes>"
      ]
     },
     "metadata": {
      "needs_background": "light"
     },
     "output_type": "display_data"
    },
    {
     "data": {
      "image/png": "[encoded data removed]",
      "text/plain": [
       "<Figure size 432x288 with 1 Axes>"
      ]
     },
     "metadata": {
      "needs_background": "light"
     },
     "output_type": "display_data"
    }
   ],
   "source": [
    "hst = model.history\n",
    "\n",
    "# print(history.history.keys())\n",
    "\n",
    "plt.plot(hst.history['acc'])\n",
    "plt.title('Model Accuracy')\n",
    "plt.ylabel('Accuracy')\n",
    "plt.xlabel('Epochs')\n",
    "plt.show()\n",
    "\n",
    "plt.plot(hst.history['loss'])\n",
    "plt.title('Loss')\n",
    "plt.ylabel('Loss')\n",
    "plt.xlabel('Epochs')\n",
    "plt.show()"
   ]
  }
 ],
 "metadata": {
  "kernelspec": {
   "display_name": "Python 3",
   "language": "python",
   "name": "python3"
  },
  "language_info": {
   "codemirror_mode": {
    "name": "ipython",
    "version": 3
   },
   "file_extension": ".py",
   "mimetype": "text/x-python",
   "name": "python",
   "nbconvert_exporter": "python",
   "pygments_lexer": "ipython3",
   "version": "3.7.3"
  }
 },
 "nbformat": 4,
 "nbformat_minor": 2
}
